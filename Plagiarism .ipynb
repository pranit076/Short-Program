{
 "cells": [
  {
   "cell_type": "code",
   "execution_count": 6,
   "id": "0c8deb05",
   "metadata": {},
   "outputs": [],
   "source": [
    "from difflib import SequenceMatcher"
   ]
  },
  {
   "cell_type": "code",
   "execution_count": 21,
   "id": "198fb65f",
   "metadata": {},
   "outputs": [],
   "source": [
    "filea = open(\"filea.txt\", \"r\")\n",
    "text1 = filea.readlines()\n",
    "stra = ''.join('text1')"
   ]
  },
  {
   "cell_type": "code",
   "execution_count": 22,
   "id": "3cb94169",
   "metadata": {},
   "outputs": [],
   "source": [
    "fileb = open(\"fileb.txt\", \"r\")\n",
    "text2 = fileb.readlines()\n",
    "stra = ''.join(text2)"
   ]
  },
  {
   "cell_type": "code",
   "execution_count": 23,
   "id": "0fb0a7e7",
   "metadata": {},
   "outputs": [],
   "source": [
    "similarity = SequenceMatcher(None,stra,strb).ratio()"
   ]
  },
  {
   "cell_type": "code",
   "execution_count": 24,
   "id": "9ab52295",
   "metadata": {},
   "outputs": [
    {
     "name": "stdout",
     "output_type": "stream",
     "text": [
      "100.0\n"
     ]
    }
   ],
   "source": [
    "print(similarity*100)"
   ]
  },
  {
   "cell_type": "code",
   "execution_count": null,
   "id": "779c37de",
   "metadata": {},
   "outputs": [],
   "source": []
  }
 ],
 "metadata": {
  "kernelspec": {
   "display_name": "Python 3",
   "language": "python",
   "name": "python3"
  },
  "language_info": {
   "codemirror_mode": {
    "name": "ipython",
    "version": 3
   },
   "file_extension": ".py",
   "mimetype": "text/x-python",
   "name": "python",
   "nbconvert_exporter": "python",
   "pygments_lexer": "ipython3",
   "version": "3.8.8"
  }
 },
 "nbformat": 4,
 "nbformat_minor": 5
}
